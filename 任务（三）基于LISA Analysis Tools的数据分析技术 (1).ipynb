{
 "cells": [
  {
   "cell_type": "markdown",
   "id": "9f8278e8",
   "metadata": {},
   "source": [
    "1.进入finalshell下载插件"
   ]
  },
  {
   "cell_type": "markdown",
   "id": "02312a67",
   "metadata": {},
   "source": [
    "yum -y install wget"
   ]
  },
  {
   "cell_type": "markdown",
   "id": "6cc0bf36",
   "metadata": {},
   "source": [
    "wget https://repo.anaconda.com/miniconda/Miniconda3-latest-Linux-x86_64.sh"
   ]
  },
  {
   "cell_type": "markdown",
   "id": "8279c4b8",
   "metadata": {},
   "source": [
    "yum install git"
   ]
  },
  {
   "cell_type": "markdown",
   "id": "928de6d4",
   "metadata": {},
   "source": [
    "bash ~/miniconda3/miniconda.sh"
   ]
  },
  {
   "cell_type": "markdown",
   "id": "ad8b66c0",
   "metadata": {},
   "source": [
    "conda create -n env_a python=3.7"
   ]
  },
  {
   "cell_type": "markdown",
   "id": "381fcd50",
   "metadata": {},
   "source": [
    "2. 进入虚拟环境"
   ]
  },
  {
   "cell_type": "markdown",
   "id": "5cf5d326",
   "metadata": {},
   "source": [
    "conda create -n env_a python=3.7\n",
    "conda env list\n",
    "conda activate env_a"
   ]
  },
  {
   "cell_type": "markdown",
   "id": "967084a7",
   "metadata": {},
   "source": [
    "3. git克隆到本地"
   ]
  },
  {
   "cell_type": "markdown",
   "id": "08343638",
   "metadata": {},
   "source": [
    "git clone https://github.com/mikekatz04/LATW.git \n",
    "cd LATW/"
   ]
  },
  {
   "cell_type": "markdown",
   "id": "6f5bf38f",
   "metadata": {},
   "source": [
    "bash install.sh"
   ]
  },
  {
   "cell_type": "raw",
   "id": "1fad6045",
   "metadata": {},
   "source": [
    "成功！"
   ]
  },
  {
   "cell_type": "markdown",
   "id": "5448ac3b",
   "metadata": {},
   "source": [
    "*难点之一在于部署环境，这还是我第一次听虚拟环境这个词。首先我在主机终端上尝试设置conda环境，发现（又去问了师兄）运行bash指令需要在linux系统中才能进行，\n",
    "于是我花了一下午和一晚上下载并学习VMware，centos以及finalshell的用法和指令，在虚拟端中安装了各种包，以及各种摸索之后，\n",
    "终于成功运行bash install.sh.这样我的第一步环境部署就完成了。但第二天我又遇到了一个大麻烦，虚拟机和finalshell无法连接，又在几经摸索，\n",
    "差点卸载重下的时候，我解决了这个问题：ip地址不匹配以及修改（教程大多是修改vmware的地址，我尝试之后无效，谁知当我改了finals hell的ip后，\n",
    "竟然奇迹的连接上了）\n",
    "*收获与感悟，第一次拥有github账号，也注册了outlook邮箱，要和小众的QQ邮箱说再见啦。此次学习，我逐渐适应了全英文的模式，不再每个网页都点全文翻译啦。"
   ]
  }
 ],
 "metadata": {
  "kernelspec": {
   "display_name": "Python 3 (ipykernel)",
   "language": "python",
   "name": "python3"
  },
  "language_info": {
   "codemirror_mode": {
    "name": "ipython",
    "version": 3
   },
   "file_extension": ".py",
   "mimetype": "text/x-python",
   "name": "python",
   "nbconvert_exporter": "python",
   "pygments_lexer": "ipython3",
   "version": "3.11.7"
  }
 },
 "nbformat": 4,
 "nbformat_minor": 5
}
