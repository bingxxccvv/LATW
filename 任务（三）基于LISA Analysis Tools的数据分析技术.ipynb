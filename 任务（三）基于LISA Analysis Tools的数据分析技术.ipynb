{
 "cells": [
  {
   "cell_type": "code",
   "execution_count": null,
   "id": "3b717adb",
   "metadata": {},
   "outputs": [],
   "source": [
    "1. git克隆到本地"
   ]
  },
  {
   "cell_type": "code",
   "execution_count": null,
   "id": "8f93e28e",
   "metadata": {},
   "outputs": [],
   "source": [
    "git clone https://github.com/mikekatz04/LATW.git cd LATW/"
   ]
  },
  {
   "cell_type": "code",
   "execution_count": null,
   "id": "9aa80da1",
   "metadata": {},
   "outputs": [],
   "source": [
    "2. 虚拟环境"
   ]
  },
  {
   "cell_type": "code",
   "execution_count": 1,
   "id": "3b53b31b",
   "metadata": {},
   "outputs": [
    {
     "ename": "SyntaxError",
     "evalue": "invalid syntax (3986785096.py, line 1)",
     "output_type": "error",
     "traceback": [
      "\u001b[1;36m  Cell \u001b[1;32mIn[1], line 1\u001b[1;36m\u001b[0m\n\u001b[1;33m    conda env create -f environment.yml\u001b[0m\n\u001b[1;37m          ^\u001b[0m\n\u001b[1;31mSyntaxError\u001b[0m\u001b[1;31m:\u001b[0m invalid syntax\n"
     ]
    }
   ],
   "source": [
    "conda env create -f environment.yml\n",
    "conda activate nerf\n",
    "bash download_example_data.sh\n",
    "\n"
   ]
  },
  {
   "cell_type": "markdown",
   "id": "4b6a6e5b",
   "metadata": {},
   "source": [
    "*难点之一在于部署环境，这还是我第一次听虚拟环境这个词。首先我在主机终端上尝试设置conda环境，发现（又去问了师兄）运行bash指令需要在linux系统中才能进行，\n",
    "于是我花了一下午和一晚上下载并学习VMware，centos以及finalshell的用法和指令，在虚拟端中安装了各种包，以及各种摸索之后，\n",
    "终于成功运行bash install.sh.这样我的第一步环境部署就完成了。但第二天我又遇到了一个大麻烦，虚拟机和finalshell无法连接，又在几经摸索，\n",
    "差点卸载重下的时候，我解决了这个问题：ip地址不匹配以及修改（教程大多是修改vmware的地址，我尝试之后无效，谁知当我改了finals hell的ip后，\n",
    "竟然奇迹的连接上了）\n",
    "*收获与感悟，第一次拥有github账号，也注册了outlook邮箱，要和小众的QQ邮箱说再见啦。此次学习，我逐渐适应了全英文的模式，不再每个网页都点全文翻译啦。"
   ]
  }
 ],
 "metadata": {
  "kernelspec": {
   "display_name": "Python 3 (ipykernel)",
   "language": "python",
   "name": "python3"
  },
  "language_info": {
   "codemirror_mode": {
    "name": "ipython",
    "version": 3
   },
   "file_extension": ".py",
   "mimetype": "text/x-python",
   "name": "python",
   "nbconvert_exporter": "python",
   "pygments_lexer": "ipython3",
   "version": "3.11.7"
  }
 },
 "nbformat": 4,
 "nbformat_minor": 5
}
